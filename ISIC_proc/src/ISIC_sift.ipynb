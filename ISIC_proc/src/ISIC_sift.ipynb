{
 "cells": [
  {
   "cell_type": "code",
   "execution_count": null,
   "metadata": {},
   "outputs": [],
   "source": [
    "import cv2\n",
    "import pandas as pd\n",
    "import numpy as np\n",
    "import os\n",
    "from sklearn.model_selection import train_test_split\n",
    "import pickle\n"
   ]
  },
  {
   "cell_type": "code",
   "execution_count": null,
   "metadata": {},
   "outputs": [],
   "source": [
    "def load_and_process_image(image_path):\n",
    "    # Load image in grayscale\n",
    "    image = cv2.imread(image_path, cv2.IMREAD_GRAYSCALE)\n",
    "\n",
    "    # Initialize SIFT\n",
    "    sift = cv2.SIFT_create()\n",
    "\n",
    "    # Detect and compute SIFT features\n",
    "    keypoints, descriptors = sift.detectAndCompute(image, None)\n",
    "    if descriptors is None:\n",
    "        descriptors = np.array([])\n",
    "\n",
    "    return descriptors\n"
   ]
  },
  {
   "cell_type": "code",
   "execution_count": null,
   "metadata": {},
   "outputs": [],
   "source": [
    "def load_data(image_folder, metadata_file):\n",
    "    # Read metadata CSV file\n",
    "    metadata = pd.read_csv(metadata_file)\n",
    "\n",
    "    # Initialize lists for storing image features and metadata\n",
    "    image_features = []\n",
    "    image_metadata = []\n",
    "\n",
    "    for i, row in metadata.iterrows():\n",
    "        if not i % 100:\n",
    "            print(f\"Processing image {i} / {len(metadata)}\")\n",
    "        file_id = row[\"isic_id\"]\n",
    "        image_path = os.path.join(image_folder, file_id + \".JPG\")\n",
    "\n",
    "        if os.path.exists(image_path):\n",
    "            # Process each image and store the descriptors\n",
    "            descriptors = load_and_process_image(image_path)\n",
    "            image_features.append(descriptors)\n",
    "            image_metadata.append(row)  # Store the entire row of metadata\n",
    "\n",
    "    # Split the dataset into training and testing sets\n",
    "    x_train, x_test, metadata_train, metadata_test = train_test_split(\n",
    "        image_features, image_metadata, test_size=0.2, random_state=42\n",
    "    )\n",
    "\n",
    "    return (x_train, metadata_train), (x_test, metadata_test)\n"
   ]
  },
  {
   "cell_type": "code",
   "execution_count": null,
   "metadata": {},
   "outputs": [],
   "source": [
    "def save_datasets(data, filename):\n",
    "    with open(filename, \"wb\") as f:\n",
    "        pickle.dump(data, f)\n"
   ]
  },
  {
   "cell_type": "code",
   "execution_count": null,
   "metadata": {},
   "outputs": [],
   "source": [
    "# Path to images and metadata\n",
    "IMG_DIR = \"../data/images\"\n",
    "DATA_DIR = \"../data/sift_datasets\"\n",
    "image_folder = IMG_DIR\n",
    "metadata_file = \"../data/ham10000_metadata_2023-11-27.csv\"\n",
    "sift_datasets_folder = DATA_DIR\n"
   ]
  },
  {
   "cell_type": "code",
   "execution_count": null,
   "metadata": {},
   "outputs": [],
   "source": [
    "# Load data and metadata\n",
    "(x_train, metadata_train), (x_test, metadata_test) = load_data(\n",
    "    image_folder, metadata_file\n",
    ")\n"
   ]
  },
  {
   "cell_type": "code",
   "execution_count": null,
   "metadata": {},
   "outputs": [],
   "source": [
    "# Save the datasets with metadata\n",
    "save_datasets(\n",
    "    (x_train, metadata_train), os.path.join(sift_datasets_folder, \"train_data.pkl\")\n",
    ")\n",
    "save_datasets(\n",
    "    (x_test, metadata_test), os.path.join(sift_datasets_folder, \"test_data.pkl\")\n",
    ")\n"
   ]
  },
  {
   "cell_type": "code",
   "execution_count": 9,
   "metadata": {},
   "outputs": [],
   "source": [
    "\n"
   ]
  },
  {
   "cell_type": "code",
   "execution_count": null,
   "metadata": {},
   "outputs": [],
   "source": []
  }
 ],
 "metadata": {
  "kernelspec": {
   "display_name": "ml_research",
   "language": "python",
   "name": "python3"
  },
  "language_info": {
   "codemirror_mode": {
    "name": "ipython",
    "version": 3
   },
   "file_extension": ".py",
   "mimetype": "text/x-python",
   "name": "python",
   "nbconvert_exporter": "python",
   "pygments_lexer": "ipython3",
   "version": "3.10.12"
  }
 },
 "nbformat": 4,
 "nbformat_minor": 2
}
